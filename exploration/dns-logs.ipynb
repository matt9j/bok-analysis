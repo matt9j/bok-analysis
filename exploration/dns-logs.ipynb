{
 "cells": [
  {
   "cell_type": "code",
   "execution_count": null,
   "metadata": {},
   "outputs": [],
   "source": [
    "import pickle\n",
    "import lzma\n",
    "import datetime\n",
    "import pandas as pd\n",
    "import altair as alt\n",
    "import numpy as np"
   ]
  },
  {
   "cell_type": "code",
   "execution_count": null,
   "metadata": {},
   "outputs": [],
   "source": [
    "alt.renderers.enable('notebook')"
   ]
  },
  {
   "cell_type": "code",
   "execution_count": null,
   "metadata": {},
   "outputs": [],
   "source": [
    "dnslog = list()\n",
    "i = 0\n",
    "with open('data/dnslog.pickle', mode=\"rb\") as f:\n",
    "    dnslog = pickle.load(f)\n",
    "for temp in dnslog:\n",
    "    if str(temp) == '8.8.8.8':\n",
    "        print(dnslog[temp])\n",
    "#         dnslog[temp] = 'dns.google'\n",
    "# with open('data/dnslog.pickle', mode=\"wb\") as g:\n",
    "#     pickle.dump(dnslog, g, protocol=pickle.HIGHEST_PROTOCOL)"
   ]
  },
  {
   "cell_type": "code",
   "execution_count": null,
   "metadata": {
    "scrolled": false
   },
   "outputs": [],
   "source": [
    "hosts = dict()\n",
    "for entry in dnslog:\n",
    "    if entry['host'] != '0.pool.ntp.org' and entry['host'] != '1.cn.pool.ntp.org':\n",
    "        if entry['host'] not in hosts.keys():\n",
    "            hosts[entry['host']] = 1\n",
    "        else:\n",
    "            hosts[entry['host']] += 1\n",
    "frame = pd.DataFrame({'host': list(hosts.keys()),\n",
    "                     'accesses': list(hosts.values())})\n",
    "alt.Chart(frame).mark_bar(size=10).encode(\n",
    "    x='host',\n",
    "    y='accesses'\n",
    ").properties(width=1000)"
   ]
  },
  {
   "cell_type": "code",
   "execution_count": null,
   "metadata": {},
   "outputs": [],
   "source": [
    "hosts = dict()\n",
    "for entry in dnslog:\n",
    "    if 'markets' in entry['host']:\n",
    "        if entry['host'] not in hosts.keys():\n",
    "            hosts[entry['host']] = 1\n",
    "        else:\n",
    "            hosts[entry['host']] += 1\n",
    "frame = pd.DataFrame({'host': list(hosts.keys()),\n",
    "                     'accesses': list(hosts.values())})\n",
    "alt.Chart(frame).mark_bar(size=10).encode(\n",
    "    x='host',\n",
    "    y='accesses'\n",
    ").properties(width=1000)"
   ]
  },
  {
   "cell_type": "code",
   "execution_count": null,
   "metadata": {},
   "outputs": [],
   "source": []
  }
 ],
 "metadata": {
  "kernelspec": {
   "display_name": "Python 3",
   "language": "python",
   "name": "python3"
  },
  "language_info": {
   "codemirror_mode": {
    "name": "ipython",
    "version": 3
   },
   "file_extension": ".py",
   "mimetype": "text/x-python",
   "name": "python",
   "nbconvert_exporter": "python",
   "pygments_lexer": "ipython3",
   "version": "3.8.1"
  }
 },
 "nbformat": 4,
 "nbformat_minor": 2
}