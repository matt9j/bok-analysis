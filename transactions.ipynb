{
 "cells": [
  {
   "cell_type": "code",
   "execution_count": null,
   "metadata": {
    "pycharm": {
     "is_executing": false
    }
   },
   "outputs": [],
   "source": [
    "import pickle\n",
    "import datetime\n",
    "import pandas as pd\n",
    "import altair as alt\n",
    "\n",
    "import bok.parsers"
   ]
  },
  {
   "cell_type": "code",
   "execution_count": null,
   "outputs": [],
   "source": [
    "# Define a conversion rate based on the current global market exchange rate.\n",
    "IDR_TO_USD_RATE = 1.0/14150"
   ],
   "metadata": {
    "collapsed": false,
    "pycharm": {
     "name": "#%%\n",
     "is_executing": false
    }
   }
  },
  {
   "cell_type": "markdown",
   "metadata": {},
   "source": [
    "## Extracting data from the transactions file"
   ]
  },
  {
   "cell_type": "code",
   "execution_count": null,
   "outputs": [],
   "source": [
    "transactions = bok.parsers.parse_transactions_log(\"data/clean/transactions.log\")"
   ],
   "metadata": {
    "collapsed": false,
    "pycharm": {
     "name": "#%%\n"
    }
   }
  },
  {
   "cell_type": "markdown",
   "source": [
    "## Each user's total amount of data purchased directly."
   ],
   "metadata": {
    "collapsed": false
   }
  },
  {
   "cell_type": "code",
   "execution_count": null,
   "outputs": [],
   "source": [
    "purchases = transactions.loc[transactions[\"kind\"] == \"purchase\"]\n",
    "aggregated_purchases = purchases.groupby(\"user\")\n",
    "\n",
    "plots_frame = aggregated_purchases[[\"amount_idr\", \"amount_bytes\"]].sum()\n",
    "plots_frame = plots_frame.reset_index()\n",
    "\n",
    "plots_frame[\"amount_GiB\"] = plots_frame[\"amount_bytes\"] * float(1)/(1024**3)\n",
    "print(plots_frame)"
   ],
   "metadata": {
    "collapsed": false,
    "pycharm": {
     "name": "#%%\n",
     "is_executing": false
    }
   }
  },
  {
   "cell_type": "code",
   "execution_count": null,
   "outputs": [],
   "source": [
    "alt.Chart(plots_frame).mark_bar().encode(\n",
    "    x=alt.X('user',\n",
    "            sort=alt.SortField(field=\"amount_bytes\",\n",
    "                               order=\"descending\"\n",
    "                               ),\n",
    "            ),\n",
    "    y=alt.Y('amount_GiB',\n",
    "            scale=alt.Scale(type=\"log\"),\n",
    "            ),\n",
    ").display()"
   ],
   "metadata": {
    "collapsed": false,
    "pycharm": {
     "name": "#%%\n",
     "is_executing": false
    }
   }
  },
  {
   "cell_type": "markdown",
   "source": [
    "## Each user's count of purchase transactions"
   ],
   "metadata": {
    "collapsed": false,
    "pycharm": {
     "name": "#%% md\n"
    }
   }
  },
  {
   "cell_type": "code",
   "execution_count": null,
   "outputs": [],
   "source": [
    "purchases = transactions.loc[transactions[\"kind\"] == \"purchase\"]\n",
    "purchase_counts = purchases.groupby(\"user\")[\"timestamp\"].count()\n",
    "\n",
    "plot_frame = purchase_counts.reset_index().rename({\"timestamp\": \"purchase_count\"},\n",
    "                                                  axis=\"columns\")\n",
    "\n",
    "alt.Chart(plot_frame).mark_bar().encode(\n",
    "    x=alt.X('user',\n",
    "            sort=alt.SortField(field=\"purchase_count\",\n",
    "                               order=\"descending\"\n",
    "                               ),\n",
    "            ),\n",
    "    y=alt.Y('purchase_count',\n",
    "            scale=alt.Scale(type=\"log\"),\n",
    "            ),\n",
    ").display()\n"
   ],
   "metadata": {
    "collapsed": false,
    "pycharm": {
     "name": "#%%\n",
     "is_executing": false
    }
   }
  },
  {
   "cell_type": "markdown",
   "source": [
    "## Each user's count of transfer transactions"
   ],
   "metadata": {
    "collapsed": false
   }
  },
  {
   "cell_type": "code",
   "execution_count": null,
   "outputs": [],
   "source": [
    "user_transfers = transactions.loc[transactions[\"kind\"] == \"user_transfer\"]\n",
    "transfer_counts = user_transfers.groupby(\"user\")[\"timestamp\"].count()\n",
    "\n",
    "plot_frame = transfer_counts.reset_index().rename({\"timestamp\": \"transfer_src_count\"},\n",
    "                                                  axis=\"columns\")\n",
    "\n",
    "transfer_dst_counts = user_transfers.groupby(\"dest_user\")[\"timestamp\"].count()\n",
    "\n",
    "transfer_dst_counts = transfer_dst_counts.reset_index().rename(\n",
    "    {\"timestamp\": \"transfer_dst_count\",\n",
    "     \"dest_user\": \"user\"\n",
    "    },\n",
    "    axis=\"columns\"\n",
    ")\n",
    "\n",
    "plot_frame = plot_frame.merge(transfer_dst_counts, how=\"outer\")\n",
    "\n",
    "plot_frame = plot_frame.melt(id_vars=[\"user\"],\n",
    "                             value_vars=[\"transfer_src_count\", \"transfer_dst_count\"],\n",
    "                             var_name=\"direction\",\n",
    "                             value_name=\"count\")\n",
    "\n",
    "alt.Chart(plot_frame).mark_bar(opacity=0.7).encode(\n",
    "    x=alt.X('user',\n",
    "            sort=alt.SortField(field=\"count\",\n",
    "                               order=\"descending\"\n",
    "                               ),\n",
    "            ),\n",
    "    y=alt.Y('count',\n",
    "            scale=alt.Scale(type=\"log\"),\n",
    "            stack=False,\n",
    "            ),\n",
    "    color=\"direction\"\n",
    ").display()\n"
   ],
   "metadata": {
    "collapsed": false,
    "pycharm": {
     "name": "#%%\n",
     "is_executing": false
    }
   }
  },
  {
   "cell_type": "markdown",
   "source": [
    "## Each user's amount of currency transferred"
   ],
   "metadata": {
    "collapsed": false
   }
  },
  {
   "cell_type": "code",
   "execution_count": null,
   "outputs": [],
   "source": [
    "user_transfers = transactions.loc[transactions[\"kind\"] == \"user_transfer\"]\n",
    "transfer_counts = user_transfers.groupby(\"user\")[\"amount_idr\"].sum()\n",
    "\n",
    "plot_frame = transfer_counts.reset_index().rename({\"amount_idr\": \"transfer_src_sum\"},\n",
    "                                                  axis=\"columns\")\n",
    "\n",
    "transfer_dst_counts = user_transfers.groupby(\"dest_user\")[\"amount_idr\"].sum()\n",
    "\n",
    "transfer_dst_counts = transfer_dst_counts.reset_index().rename(\n",
    "    {\"amount_idr\": \"transfer_dst_sum\",\n",
    "     \"dest_user\": \"user\"\n",
    "    },\n",
    "    axis=\"columns\"\n",
    ")\n",
    "\n",
    "plot_frame = plot_frame.merge(transfer_dst_counts, how=\"outer\")\n",
    "plot_frame = plot_frame.melt(id_vars=[\"user\"],\n",
    "                             value_vars=[\"transfer_src_sum\", \"transfer_dst_sum\"],\n",
    "                             var_name=\"direction\",\n",
    "                             value_name=\"idr\")\n",
    "\n",
    "# Convert to USD\n",
    "plot_frame[\"usd\"] = plot_frame[\"idr\"] * IDR_TO_USD_RATE\n",
    "\n",
    "alt.Chart(plot_frame).mark_bar(opacity=0.7).encode(\n",
    "    x=alt.X('user',\n",
    "            sort=alt.SortField(field=\"usd\",\n",
    "                               order=\"descending\"\n",
    "                               ),\n",
    "            ),\n",
    "    y=alt.Y('usd',\n",
    "            scale=alt.Scale(type=\"log\"),\n",
    "            stack=False,\n",
    "            ),\n",
    "    color=\"direction\"\n",
    ").display()"
   ],
   "metadata": {
    "collapsed": false,
    "pycharm": {
     "name": "#%%\n",
     "is_executing": false
    }
   }
  },
  {
   "cell_type": "markdown",
   "source": [
    "## Graph network revenue and expenses vs time"
   ],
   "metadata": {
    "collapsed": false,
    "pycharm": {
     "name": "#%% md\n"
    }
   }
  },
  {
   "cell_type": "code",
   "execution_count": null,
   "outputs": [],
   "source": [
    "topups = transactions.loc[transactions[\"kind\"] == \"admin_topup\"]\n",
    "topups = topups.set_index(\"timestamp\")[[\"dest_user\", \"amount_idr\"]]\n",
    "topups[\"idr_cumulative\"] = topups[\"amount_idr\"].cumsum()\n",
    "\n",
    "# Convert to USD\n",
    "topups[\"usd_cumulative\"] = topups[\"idr_cumulative\"] * IDR_TO_USD_RATE\n",
    "\n",
    "topups = topups.reset_index()\n",
    "\n",
    "alt.Chart(topups).mark_line().encode(\n",
    "    x=alt.X('timestamp',\n",
    "            type=\"temporal\"\n",
    "            ),\n",
    "    y=alt.Y(\"usd_cumulative\",\n",
    "            ),\n",
    ").display()"
   ],
   "metadata": {
    "collapsed": false,
    "pycharm": {
     "name": "#%%\n",
     "is_executing": false
    }
   }
  },
  {
   "cell_type": "markdown",
   "metadata": {},
   "source": [
    "## From the transactions data, a graph of the number of transactions of different costs."
   ]
  },
  {
   "cell_type": "code",
   "execution_count": null,
   "metadata": {
    "pycharm": {
     "is_executing": false
    }
   },
   "outputs": [],
   "source": [
    "purchases = transactions.loc[transactions[\"kind\"] == \"purchase\"]\n",
    "purchases = purchases.groupby(\"amount_bytes\")[\"timestamp\"].count()\n",
    "purchases = purchases.reset_index().rename({\"timestamp\": \"count\"}, axis=\"columns\")\n",
    "purchases[\"amount_MB\"] = purchases[\"amount_bytes\"] * 1.0/1000**2\n",
    "purchases[\"total_GB\"] = purchases[\"amount_MB\"] * purchases[\"count\"] * 1.0/1000\n",
    "\n",
    "print(purchases)\n",
    "bars = alt.Chart(purchases).mark_bar().encode(\n",
    "    x=alt.X('amount_MB',\n",
    "            type=\"ordinal\",\n",
    "            ),\n",
    "    y='count',\n",
    ")\n",
    "\n",
    "text = bars.mark_text(\n",
    "    align=\"left\",\n",
    "    baseline=\"bottom\",\n",
    ").encode(\n",
    "    text=\"count:Q\"\n",
    ")\n",
    "\n",
    "bars = text + bars\n",
    "\n",
    "bars.display()\n",
    "\n",
    "alt.Chart(purchases).mark_bar().encode(\n",
    "    x=alt.X('amount_MB',\n",
    "            type=\"ordinal\",\n",
    "            ),\n",
    "    y='total_GB',\n",
    ").display()"
   ]
  },
  {
   "cell_type": "markdown",
   "source": [
    "## Explore which package most users select"
   ],
   "metadata": {
    "collapsed": false,
    "pycharm": {
     "name": "#%% md\n"
    }
   }
  },
  {
   "cell_type": "code",
   "execution_count": null,
   "outputs": [],
   "source": [
    "user_packages = transactions.loc[transactions[\"kind\"] == \"purchase\"]\n",
    "user_packages = user_packages.groupby([\"user\", \"amount_bytes\"])[\"timestamp\"].count()\n",
    "user_packages = user_packages.reset_index().rename({\"timestamp\":\"count\"}, axis=\"columns\")\n",
    "user_packages[\"amount_MB\"] = user_packages[\"amount_bytes\"] * 1.0/1000**2\n",
    "\n",
    "alt.Chart(user_packages).mark_bar(opacity=0.7).encode(\n",
    "    x=alt.X('user',\n",
    "            sort=alt.SortField(field=\"count\",\n",
    "                               order=\"descending\"\n",
    "                               ),\n",
    "            ),\n",
    "    y=alt.Y('count',\n",
    "            scale=alt.Scale(type=\"linear\"),\n",
    "            stack=\"normalize\",\n",
    "            ),\n",
    "    color=\"amount_MB:N\"\n",
    ").display()\n",
    "\n",
    "alt.Chart(user_packages).mark_bar(opacity=0.7).encode(\n",
    "    x=alt.X('user',\n",
    "            sort=alt.SortField(field=\"count\",\n",
    "                               order=\"descending\"\n",
    "                               ),\n",
    "            ),\n",
    "    y=alt.Y('count',\n",
    "            scale=alt.Scale(type=\"linear\"),\n",
    "            stack=\"zero\",\n",
    "            ),\n",
    "    color=\"amount_MB:N\"\n",
    ").display()"
   ],
   "metadata": {
    "collapsed": false,
    "pycharm": {
     "name": "#%%\n",
     "is_executing": false
    }
   }
  },
  {
   "cell_type": "markdown",
   "source": [
    "## Explore the amount of bytes sold at each package level"
   ],
   "metadata": {
    "collapsed": false,
    "pycharm": {
     "name": "#%% md\n",
     "is_executing": false
    }
   }
  },
  {
   "cell_type": "code",
   "execution_count": null,
   "outputs": [],
   "source": [
    "bytes_per_package = user_packages\n",
    "bytes_per_package[\"bytes_per_package\"] = bytes_per_package[\"count\"] * bytes_per_package[\"amount_bytes\"]\n",
    "\n",
    "print(bytes_per_package)\n",
    "\n",
    "alt.Chart(bytes_per_package).mark_bar(opacity=0.7).encode(\n",
    "    x=alt.X('user',\n",
    "            sort=alt.SortField(field=\"bytes_per_package\",\n",
    "                               order=\"descending\"\n",
    "                               ),\n",
    "            ),\n",
    "    y=alt.Y('bytes_per_package',\n",
    "            scale=alt.Scale(type=\"linear\"),\n",
    "            stack=\"normalize\",\n",
    "            ),\n",
    "    color=\"amount_MB:N\"\n",
    ").display()\n",
    "\n",
    "alt.Chart(bytes_per_package).mark_bar(opacity=0.7).encode(\n",
    "    x=alt.X('user',\n",
    "            sort=alt.SortField(field=\"bytes_per_package\",\n",
    "                               order=\"descending\"\n",
    "                               ),\n",
    "            ),\n",
    "    y=alt.Y('bytes_per_package',\n",
    "            scale=alt.Scale(type=\"linear\"),\n",
    "            stack=\"zero\",\n",
    "            ),\n",
    "    color=\"amount_MB:N\"\n",
    ").display()"
   ],
   "metadata": {
    "collapsed": false,
    "pycharm": {
     "name": "#%%\n",
     "is_executing": false
    }
   }
  },
  {
   "cell_type": "code",
   "execution_count": null,
   "metadata": {
    "pycharm": {
     "is_executing": false
    }
   },
   "outputs": [],
   "source": [
    "## Purchases vs. Transfers vs. Topups"
   ]
  },
  {
   "cell_type": "code",
   "execution_count": null,
   "metadata": {
    "pycharm": {
     "is_executing": false
    }
   },
   "outputs": [],
   "source": [
    "categorized_transactions_df = pd.DataFrame({'type': list(categorized_transactions.keys()),\n",
    "                                           'amount': list(categorized_transactions.values())})\n",
    "\n",
    "alt.Chart(categorized_transactions_df).mark_bar(size=30).encode(\n",
    "    x='type',\n",
    "    y='amount',\n",
    "    tooltip=['type:N', 'bytes:Q']\n",
    ").properties(width=100)"
   ]
  },
  {
   "cell_type": "markdown",
   "metadata": {},
   "source": [
    "## Graph of how much data was bought per day, in total, by the members of the Bokondini community."
   ]
  },
  {
   "cell_type": "code",
   "execution_count": null,
   "metadata": {
    "scrolled": true,
    "pycharm": {
     "is_executing": false
    }
   },
   "outputs": [],
   "source": [
    "bytes = dict()\n",
    "\n",
    "for entry in purchases:\n",
    "    if entry[0] not in bytes:\n",
    "        bytes[entry[0]] = float(entry[4]) / 1000000000\n",
    "    else:\n",
    "        bytes[entry[0]] += float(entry[4]) / 1000000000"
   ]
  },
  {
   "cell_type": "code",
   "execution_count": null,
   "metadata": {
    "pycharm": {
     "is_executing": false
    }
   },
   "outputs": [],
   "source": [
    "dates = list()\n",
    "for i in range((datetime.date(2019, 5, 17) - datetime.date(2019, 3, 4)).days + 1):\n",
    "    dates.append(str(datetime.date(2019, 3, 4) + datetime.timedelta(days=i)))\n",
    "def load_average(week):\n",
    "    with open(\"data/weeks/remote_userlogs/remote_userlog-%s.pickle\" % week, mode=\"rb\") as h:\n",
    "        remote_userlog = pickle.load(h)\n",
    "    times = dict()\n",
    "    days = list()\n",
    "    index = 0\n",
    "    days.append(remote_userlog[index]['start_time'].date())\n",
    "    for entry in remote_userlog:\n",
    "        if entry['start_time'].date() != days[index]:\n",
    "            index += 1\n",
    "            days.append(entry['start_time'].date())\n",
    "        for day in days:\n",
    "            times[str(day)] = 0\n",
    "    for entry in remote_userlog:\n",
    "        times[str(entry['start_time'].date())] += entry['bytes_b_to_a']\n",
    "        times[str(entry['start_time'].date())] += entry['bytes_a_to_b']\n",
    "    return times"
   ]
  },
  {
   "cell_type": "code",
   "execution_count": null,
   "metadata": {
    "pycharm": {
     "is_executing": false
    }
   },
   "outputs": [],
   "source": [
    "total = list()\n",
    "dates = list()\n",
    "date = datetime.date(2019, 3, 4)\n",
    "while (date < datetime.date(2019, 5, 17)):\n",
    "    print(date)\n",
    "    total.append(load_average(str(date)))\n",
    "    date += datetime.timedelta(days=7)"
   ]
  },
  {
   "cell_type": "code",
   "execution_count": null,
   "metadata": {
    "pycharm": {
     "is_executing": false
    }
   },
   "outputs": [],
   "source": [
    "days = dict()\n",
    "\n",
    "for week in total:\n",
    "    for day in week:\n",
    "        if day not in days.keys():\n",
    "            days[day] = week[day] / 1000000000\n",
    "        else:\n",
    "            days[day] += week[day] / 1000000000\n",
    "            \n",
    "total = list()\n",
    "for entry in bytes:\n",
    "    total.append(['purchase', entry, bytes[entry]])\n",
    "    \n",
    "for entry in days:\n",
    "    total.append(['use', entry, days[entry]])"
   ]
  },
  {
   "cell_type": "code",
   "execution_count": null,
   "metadata": {
    "pycharm": {
     "is_executing": false
    }
   },
   "outputs": [],
   "source": [
    "day_avg_df = pd.DataFrame(total)\n",
    "\n",
    "alt.Chart(day_avg_df).mark_bar(opacity=0.7).encode(\n",
    "    x=alt.X('1:T', title='date'),\n",
    "    y=alt.Y('2:Q', stack=None, title='traffic in GB'),\n",
    "    color=alt.Color('0:N', title='type')\n",
    ")"
   ]
  },
  {
   "cell_type": "code",
   "execution_count": null,
   "metadata": {
    "pycharm": {
     "is_executing": false
    }
   },
   "outputs": [],
   "source": [
    "bytes = dict()\n",
    "\n",
    "for entry in purchases:\n",
    "    if entry[0] not in bytes:\n",
    "        bytes[entry[0]] = float(entry[4]) / 1000000000\n",
    "    else:\n",
    "        bytes[entry[0]] += float(entry[4]) / 1000000000\n",
    "        \n",
    "total_data = pd.DataFrame({'day': list(bytes.keys()),\n",
    "                          'total data purchased, in GB': list(bytes.values())})\n",
    "\n",
    "alt.Chart(total_data).mark_bar().encode(\n",
    "    x='day',\n",
    "    y='total data purchased, in GB'\n",
    ")"
   ]
  },
  {
   "cell_type": "markdown",
   "metadata": {},
   "source": [
    "## Graph of how much data was transferred between users per day, in total, by the members of the Bokondini community"
   ]
  },
  {
   "cell_type": "code",
   "execution_count": null,
   "metadata": {
    "pycharm": {
     "is_executing": false
    }
   },
   "outputs": [],
   "source": [
    "bytes = dict()\n",
    "\n",
    "for entry in transfers:\n",
    "    if entry[0] not in bytes:\n",
    "        bytes[entry[0]] = float(entry[5].strip()) / 1000000\n",
    "    else:\n",
    "        bytes[entry[0]] += float(entry[5].strip()) / 1000000\n",
    "        \n",
    "total_data = pd.DataFrame({'day': list(bytes.keys()),\n",
    "                          'total data transferred, in MB': list(bytes.values())})\n",
    "\n",
    "alt.Chart(total_data).mark_bar().encode(\n",
    "    x='day',\n",
    "    y='total data transferred, in MB'\n",
    ")"
   ]
  },
  {
   "cell_type": "code",
   "execution_count": null,
   "metadata": {
    "pycharm": {
     "is_executing": false
    }
   },
   "outputs": [],
   "source": [
    "bytes = dict()\n",
    "\n",
    "for entry in topups:\n",
    "    if entry[0] not in bytes:\n",
    "        bytes[entry[0]] = float(entry[4]) / 1000000\n",
    "    else:\n",
    "        bytes[entry[0]] += float(entry[4]) / 1000000\n",
    "        \n",
    "total_data = pd.DataFrame({'day': list(bytes.keys()),\n",
    "                          'total data topped up, in MB': list(bytes.values())})\n",
    "\n",
    "alt.Chart(total_data).mark_bar().encode(\n",
    "    x='day',\n",
    "    y='total data topped up, in MB'\n",
    ")\n"
   ]
  },
  {
   "cell_type": "code",
   "execution_count": null,
   "outputs": [],
   "source": [
    "# Check date time handling\n",
    "import altair as alt\n",
    "import pandas as pd\n",
    "\n",
    "df = pd.DataFrame({'local': ['2018-01-01T00:00:00'],\n",
    "                   'utc': ['2018-01-01T00:00:00Z']})\n",
    "\n",
    "alt.Chart(df).transform_calculate(\n",
    "    compliant=\"hours(datum.local) != hours(datum.utc) ? true : false\",\n",
    ").mark_text(size=20, baseline='middle').encode(\n",
    "    text=alt.condition('datum.compliant', alt.value('OK'), alt.value('not OK')),\n",
    "    color=alt.condition('datum.compliant', alt.value('green'), alt.value('red'))\n",
    ").properties(width=80, height=50)"
   ],
   "metadata": {
    "collapsed": false,
    "pycharm": {
     "name": "#%%\n"
    }
   }
  }
 ],
 "metadata": {
  "kernelspec": {
   "display_name": "Python 3",
   "language": "python",
   "name": "python3"
  },
  "language_info": {
   "codemirror_mode": {
    "name": "ipython",
    "version": 3
   },
   "file_extension": ".py",
   "mimetype": "text/x-python",
   "name": "python",
   "nbconvert_exporter": "python",
   "pygments_lexer": "ipython3",
   "version": "3.8.1"
  },
  "pycharm": {
   "stem_cell": {
    "cell_type": "raw",
    "source": [],
    "metadata": {
     "collapsed": false
    }
   }
  }
 },
 "nbformat": 4,
 "nbformat_minor": 2
}
