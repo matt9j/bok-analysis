{
 "cells": [
  {
   "cell_type": "code",
   "execution_count": null,
   "metadata": {
    "pycharm": {
     "is_executing": false
    }
   },
   "outputs": [],
   "source": [
    "import csv\n",
    "import pickle\n",
    "import datetime\n",
    "import pandas as pd\n",
    "import altair as alt"
   ]
  },
  {
   "cell_type": "markdown",
   "metadata": {},
   "source": [
    "## Extracting data from the transactions file"
   ]
  },
  {
   "cell_type": "code",
   "execution_count": null,
   "metadata": {
    "pycharm": {
     "is_executing": false
    }
   },
   "outputs": [],
   "source": [
    "transactions = list()\n",
    "purchases = list()\n",
    "transfers = list()\n",
    "topups = list() \n",
    "data = dict()\n",
    "users = dict()\n",
    "\n",
    "i = 0\n",
    "with open(\"data/clean/transactions.log\", newline='') as csvfile:\n",
    "    transreader = csv.reader(csvfile, delimiter = ' ', quotechar = '|')\n",
    "    for row in transreader:\n",
    "        transactions.append(row)\n",
    "        if transactions[i][3] not in users.keys():\n",
    "            users[transactions[i][3]] = 1\n",
    "        else:\n",
    "            users[transactions[i][3]] += 1\n",
    "        if transactions[i][2] == 'PURCHASE':\n",
    "            purchases.append(row)\n",
    "            if transactions[i][5] not in data.keys():\n",
    "                data[transactions[i][5]] = 1\n",
    "            else:\n",
    "                data[transactions[i][5]] += 1\n",
    "        elif transactions[i][2] == 'USERTRANSFER':\n",
    "            transfers.append(row)\n",
    "        elif transactions[i][2] == 'TOPUP':\n",
    "            topups.append(row)\n",
    "        else:\n",
    "            print(transactions[i])\n",
    "\n",
    "        i += 1"
   ]
  },
  {
   "cell_type": "code",
   "execution_count": null,
   "metadata": {
    "pycharm": {
     "is_executing": false
    }
   },
   "outputs": [],
   "source": [
    "frame = pd.DataFrame({'cost in indonesian rupiah': list(data.keys()),\n",
    "                     'transactions': list(data.values())})\n",
    "frame2 = pd.DataFrame({'user': list(users.keys()),\n",
    "                      'transactions': list(users.values())})"
   ]
  },
  {
   "cell_type": "markdown",
   "metadata": {},
   "source": [
    "## Graph of each user's number of transactions.\n",
    "##### I'm not entirely sure how this data could be useful yet, since it's separated by user."
   ]
  },
  {
   "cell_type": "code",
   "execution_count": null,
   "metadata": {
    "pycharm": {
     "is_executing": false
    }
   },
   "outputs": [],
   "source": [
    "alt.Chart(frame2).mark_bar().encode(\n",
    "    x=alt.X('user',\n",
    "            sort=alt.SortField(field=\"transactions\",\n",
    "                               order=\"descending\"\n",
    "                               ),\n",
    "            ),\n",
    "    y=alt.Y('transactions',\n",
    "            scale=alt.Scale(type=\"log\"),\n",
    "            ),\n",
    ").display()\n",
    "print(\"fish\")"
   ]
  },
  {
   "cell_type": "markdown",
   "metadata": {},
   "source": [
    "## From the transactions data, a graph of the number of transactions of different costs."
   ]
  },
  {
   "cell_type": "code",
   "execution_count": null,
   "metadata": {
    "pycharm": {
     "is_executing": false
    }
   },
   "outputs": [],
   "source": [
    "alt.Chart(frame).mark_bar(size=30).encode(\n",
    "    x='cost in indonesian rupiah',\n",
    "    y='transactions',\n",
    "    tooltip=['cost in indonesian rupiah:Q', 'transactions:Q']\n",
    ").properties(width=100)"
   ]
  },
  {
   "cell_type": "markdown",
   "metadata": {},
   "source": [
    "## Purchases vs. Transfers vs. Topups"
   ]
  },
  {
   "cell_type": "code",
   "execution_count": null,
   "metadata": {
    "pycharm": {
     "is_executing": false
    }
   },
   "outputs": [],
   "source": [
    "categorized_transactions = dict()\n",
    "\n",
    "categorized_transactions['purchases'] = 0\n",
    "categorized_transactions['transfers'] = 0\n",
    "categorized_transactions['topups'] = 0\n",
    "\n",
    "for purchase in purchases:\n",
    "    categorized_transactions['purchases'] += int(purchase[5])\n",
    "\n",
    "for transfer in transfers:\n",
    "    if transfer[5] == \"\":\n",
    "        # Ignore aborted transfers for now.\n",
    "        continue\n",
    "    try:\n",
    "        categorized_transactions['transfers'] += int(transfer[5])\n",
    "    except ValueError as e:\n",
    "        categorized_transactions[\"transfers\"] += float(transfer[5])\n",
    "\n",
    "for topup in topups:\n",
    "    categorized_transactions['topups'] += int(topup[4])\n",
    "    "
   ]
  },
  {
   "cell_type": "code",
   "execution_count": null,
   "metadata": {
    "pycharm": {
     "is_executing": false
    }
   },
   "outputs": [],
   "source": [
    "categorized_transactions_df = pd.DataFrame({'type': list(categorized_transactions.keys()),\n",
    "                                           'amount': list(categorized_transactions.values())})\n",
    "\n",
    "alt.Chart(categorized_transactions_df).mark_bar(size=30).encode(\n",
    "    x='type',\n",
    "    y='amount',\n",
    "    tooltip=['type:N', 'bytes:Q']\n",
    ").properties(width=100)"
   ]
  },
  {
   "cell_type": "markdown",
   "metadata": {},
   "source": [
    "## Graph of how much data was bought per day, in total, by the members of the Bokondini community."
   ]
  },
  {
   "cell_type": "code",
   "execution_count": null,
   "metadata": {
    "scrolled": true,
    "pycharm": {
     "is_executing": false
    }
   },
   "outputs": [],
   "source": [
    "bytes = dict()\n",
    "\n",
    "for entry in purchases:\n",
    "    if entry[0] not in bytes:\n",
    "        bytes[entry[0]] = float(entry[4]) / 1000000000\n",
    "    else:\n",
    "        bytes[entry[0]] += float(entry[4]) / 1000000000"
   ]
  },
  {
   "cell_type": "code",
   "execution_count": null,
   "metadata": {
    "pycharm": {
     "is_executing": false
    }
   },
   "outputs": [],
   "source": [
    "dates = list()\n",
    "for i in range((datetime.date(2019, 5, 17) - datetime.date(2019, 3, 4)).days + 1):\n",
    "    dates.append(str(datetime.date(2019, 3, 4) + datetime.timedelta(days=i)))\n",
    "def load_average(week):\n",
    "    with open(\"data/weeks/remote_userlogs/remote_userlog-%s.pickle\" % week, mode=\"rb\") as h:\n",
    "        remote_userlog = pickle.load(h)\n",
    "    times = dict()\n",
    "    days = list()\n",
    "    index = 0\n",
    "    days.append(remote_userlog[index]['start_time'].date())\n",
    "    for entry in remote_userlog:\n",
    "        if entry['start_time'].date() != days[index]:\n",
    "            index += 1\n",
    "            days.append(entry['start_time'].date())\n",
    "        for day in days:\n",
    "            times[str(day)] = 0\n",
    "    for entry in remote_userlog:\n",
    "        times[str(entry['start_time'].date())] += entry['bytes_b_to_a']\n",
    "        times[str(entry['start_time'].date())] += entry['bytes_a_to_b']\n",
    "    return times"
   ]
  },
  {
   "cell_type": "code",
   "execution_count": null,
   "metadata": {
    "pycharm": {
     "is_executing": false
    }
   },
   "outputs": [],
   "source": [
    "total = list()\n",
    "dates = list()\n",
    "date = datetime.date(2019, 3, 4)\n",
    "while (date < datetime.date(2019, 5, 17)):\n",
    "    print(date)\n",
    "    total.append(load_average(str(date)))\n",
    "    date += datetime.timedelta(days=7)"
   ]
  },
  {
   "cell_type": "code",
   "execution_count": null,
   "metadata": {
    "pycharm": {
     "is_executing": false
    }
   },
   "outputs": [],
   "source": [
    "days = dict()\n",
    "\n",
    "for week in total:\n",
    "    for day in week:\n",
    "        if day not in days.keys():\n",
    "            days[day] = week[day] / 1000000000\n",
    "        else:\n",
    "            days[day] += week[day] / 1000000000\n",
    "            \n",
    "total = list()\n",
    "for entry in bytes:\n",
    "    total.append(['purchase', entry, bytes[entry]])\n",
    "    \n",
    "for entry in days:\n",
    "    total.append(['use', entry, days[entry]])"
   ]
  },
  {
   "cell_type": "code",
   "execution_count": null,
   "metadata": {
    "pycharm": {
     "is_executing": false
    }
   },
   "outputs": [],
   "source": [
    "day_avg_df = pd.DataFrame(total)\n",
    "\n",
    "alt.Chart(day_avg_df).mark_bar(opacity=0.7).encode(\n",
    "    x=alt.X('1:T', title='date'),\n",
    "    y=alt.Y('2:Q', stack=None, title='traffic in GB'),\n",
    "    color=alt.Color('0:N', title='type')\n",
    ")"
   ]
  },
  {
   "cell_type": "code",
   "execution_count": null,
   "metadata": {
    "pycharm": {
     "is_executing": false
    }
   },
   "outputs": [],
   "source": [
    "bytes = dict()\n",
    "\n",
    "for entry in purchases:\n",
    "    if entry[0] not in bytes:\n",
    "        bytes[entry[0]] = float(entry[4]) / 1000000000\n",
    "    else:\n",
    "        bytes[entry[0]] += float(entry[4]) / 1000000000\n",
    "        \n",
    "total_data = pd.DataFrame({'day': list(bytes.keys()),\n",
    "                          'total data purchased, in GB': list(bytes.values())})\n",
    "\n",
    "alt.Chart(total_data).mark_bar().encode(\n",
    "    x='day',\n",
    "    y='total data purchased, in GB'\n",
    ")"
   ]
  },
  {
   "cell_type": "markdown",
   "metadata": {},
   "source": [
    "## Graph of how much data was transferred between users per day, in total, by the members of the Bokondini community"
   ]
  },
  {
   "cell_type": "code",
   "execution_count": null,
   "metadata": {
    "pycharm": {
     "is_executing": false
    }
   },
   "outputs": [],
   "source": [
    "bytes = dict()\n",
    "\n",
    "for entry in transfers:\n",
    "    if entry[0] not in bytes:\n",
    "        bytes[entry[0]] = float(entry[5].strip()) / 1000000\n",
    "    else:\n",
    "        bytes[entry[0]] += float(entry[5].strip()) / 1000000\n",
    "        \n",
    "total_data = pd.DataFrame({'day': list(bytes.keys()),\n",
    "                          'total data transferred, in MB': list(bytes.values())})\n",
    "\n",
    "alt.Chart(total_data).mark_bar().encode(\n",
    "    x='day',\n",
    "    y='total data transferred, in MB'\n",
    ")"
   ]
  },
  {
   "cell_type": "code",
   "execution_count": null,
   "metadata": {
    "pycharm": {
     "is_executing": false
    }
   },
   "outputs": [],
   "source": [
    "bytes = dict()\n",
    "\n",
    "for entry in topups:\n",
    "    if entry[0] not in bytes:\n",
    "        bytes[entry[0]] = float(entry[4]) / 1000000\n",
    "    else:\n",
    "        bytes[entry[0]] += float(entry[4]) / 1000000\n",
    "        \n",
    "total_data = pd.DataFrame({'day': list(bytes.keys()),\n",
    "                          'total data topped up, in MB': list(bytes.values())})\n",
    "\n",
    "alt.Chart(total_data).mark_bar().encode(\n",
    "    x='day',\n",
    "    y='total data topped up, in MB'\n",
    ")"
   ]
  },
  {
   "cell_type": "code",
   "execution_count": null,
   "metadata": {
    "pycharm": {
     "is_executing": false
    }
   },
   "outputs": [],
   "source": []
  },
  {
   "cell_type": "code",
   "execution_count": null,
   "metadata": {
    "pycharm": {
     "is_executing": false
    }
   },
   "outputs": [],
   "source": []
  }
 ],
 "metadata": {
  "kernelspec": {
   "display_name": "Python 3",
   "language": "python",
   "name": "python3"
  },
  "language_info": {
   "codemirror_mode": {
    "name": "ipython",
    "version": 3
   },
   "file_extension": ".py",
   "mimetype": "text/x-python",
   "name": "python",
   "nbconvert_exporter": "python",
   "pygments_lexer": "ipython3",
   "version": "3.8.1"
  },
  "pycharm": {
   "stem_cell": {
    "cell_type": "raw",
    "source": [],
    "metadata": {
     "collapsed": false
    }
   }
  }
 },
 "nbformat": 4,
 "nbformat_minor": 2
}
