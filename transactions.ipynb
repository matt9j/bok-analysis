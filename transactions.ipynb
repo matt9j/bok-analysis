{
 "cells": [
  {
   "cell_type": "code",
   "execution_count": null,
   "metadata": {},
   "outputs": [],
   "source": [
    "import pickle\n",
    "import datetime\n",
    "import pandas as pd\n",
    "import altair as alt\n",
    "\n",
    "import bok.dask_infra"
   ]
  },
  {
   "cell_type": "code",
   "execution_count": null,
   "metadata": {
    "pycharm": {
     "name": "#%%\n"
    }
   },
   "outputs": [],
   "source": [
    "# Define a conversion rate based on the current global market exchange rate.\n",
    "IDR_TO_USD_RATE = 1.0/14150"
   ]
  },
  {
   "cell_type": "markdown",
   "metadata": {},
   "source": [
    "## Extracting data from the transactions file"
   ]
  },
  {
   "cell_type": "code",
   "execution_count": null,
   "metadata": {
    "pycharm": {
     "name": "#%%\n"
    }
   },
   "outputs": [],
   "source": [
    "transactions = bok.dask_infra.read_parquet(\"data/clean/transactions_TM\").compute()"
   ]
  },
  {
   "cell_type": "markdown",
   "metadata": {},
   "source": [
    "## Each user's total amount of data purchased directly."
   ]
  },
  {
   "cell_type": "code",
   "execution_count": null,
   "metadata": {
    "pycharm": {
     "name": "#%%\n"
    }
   },
   "outputs": [],
   "source": [
    "purchases = transactions.loc[transactions[\"kind\"] == \"purchase\"]\n",
    "aggregated_purchases = purchases.groupby(\"user\")\n",
    "\n",
    "plots_frame = aggregated_purchases[[\"amount_idr\", \"amount_bytes\"]].sum()\n",
    "plots_frame = plots_frame.reset_index()\n",
    "\n",
    "plots_frame[\"amount_GiB\"] = plots_frame[\"amount_bytes\"] * float(1)/(1024**3)\n",
    "print(plots_frame)"
   ]
  },
  {
   "cell_type": "code",
   "execution_count": null,
   "metadata": {
    "pycharm": {
     "name": "#%%\n"
    }
   },
   "outputs": [],
   "source": [
    "alt.Chart(plots_frame).mark_bar().encode(\n",
    "    x=alt.X('user',\n",
    "            sort=alt.SortField(field=\"amount_bytes\",\n",
    "                               order=\"descending\"\n",
    "                               ),\n",
    "            ),\n",
    "    y=alt.Y('amount_GiB',\n",
    "            scale=alt.Scale(type=\"log\"),\n",
    "            ),\n",
    ").display()"
   ]
  },
  {
   "cell_type": "markdown",
   "metadata": {
    "pycharm": {
     "name": "#%% md\n"
    }
   },
   "source": [
    "## Each user's count of purchase transactions"
   ]
  },
  {
   "cell_type": "code",
   "execution_count": null,
   "metadata": {
    "pycharm": {
     "is_executing": false,
     "name": "#%%\n"
    }
   },
   "outputs": [],
   "source": [
    "purchases = transactions.loc[transactions[\"kind\"] == \"purchase\"]\n",
    "purchase_counts = purchases.groupby(\"user\")[\"timestamp\"].count()\n",
    "\n",
    "plot_frame = purchase_counts.reset_index().rename({\"timestamp\": \"purchase_count\"},\n",
    "                                                  axis=\"columns\")\n",
    "\n",
    "alt.Chart(plot_frame).mark_bar().encode(\n",
    "    x=alt.X('user',\n",
    "            sort=alt.SortField(field=\"purchase_count\",\n",
    "                               order=\"descending\"\n",
    "                               ),\n",
    "            ),\n",
    "    y=alt.Y('purchase_count',\n",
    "            scale=alt.Scale(type=\"log\"),\n",
    "            ),\n",
    ").display()\n"
   ]
  },
  {
   "cell_type": "markdown",
   "metadata": {},
   "source": [
    "## Each user's count of transfer transactions"
   ]
  },
  {
   "cell_type": "code",
   "execution_count": null,
   "metadata": {
    "pycharm": {
     "is_executing": false,
     "name": "#%%\n"
    }
   },
   "outputs": [],
   "source": [
    "user_transfers = transactions.loc[transactions[\"kind\"] == \"user_transfer\"]\n",
    "transfer_counts = user_transfers.groupby(\"user\")[\"timestamp\"].count()\n",
    "\n",
    "plot_frame = transfer_counts.reset_index().rename({\"timestamp\": \"transfer_src_count\"},\n",
    "                                                  axis=\"columns\")\n",
    "\n",
    "transfer_dst_counts = user_transfers.groupby(\"dest_user\")[\"timestamp\"].count()\n",
    "\n",
    "transfer_dst_counts = transfer_dst_counts.reset_index().rename(\n",
    "    {\"timestamp\": \"transfer_dst_count\",\n",
    "     \"dest_user\": \"user\"\n",
    "    },\n",
    "    axis=\"columns\"\n",
    ")\n",
    "\n",
    "plot_frame = plot_frame.merge(transfer_dst_counts, how=\"outer\")\n",
    "\n",
    "plot_frame = plot_frame.melt(id_vars=[\"user\"],\n",
    "                             value_vars=[\"transfer_src_count\", \"transfer_dst_count\"],\n",
    "                             var_name=\"direction\",\n",
    "                             value_name=\"count\")\n",
    "\n",
    "alt.Chart(plot_frame).mark_bar(opacity=0.7).encode(\n",
    "    x=alt.X('user',\n",
    "            sort=alt.SortField(field=\"count\",\n",
    "                               order=\"descending\"\n",
    "                               ),\n",
    "            ),\n",
    "    y=alt.Y('count',\n",
    "            scale=alt.Scale(type=\"log\"),\n",
    "            stack=False,\n",
    "            ),\n",
    "    color=\"direction\"\n",
    ").display()\n"
   ]
  },
  {
   "cell_type": "markdown",
   "metadata": {},
   "source": [
    "## Each user's amount of currency transferred"
   ]
  },
  {
   "cell_type": "code",
   "execution_count": null,
   "metadata": {
    "pycharm": {
     "is_executing": false,
     "name": "#%%\n"
    }
   },
   "outputs": [],
   "source": [
    "user_transfers = transactions.loc[transactions[\"kind\"] == \"user_transfer\"]\n",
    "transfer_counts = user_transfers.groupby(\"user\")[\"amount_idr\"].sum()\n",
    "\n",
    "plot_frame = transfer_counts.reset_index().rename({\"amount_idr\": \"transfer_src_sum\"},\n",
    "                                                  axis=\"columns\")\n",
    "\n",
    "transfer_dst_counts = user_transfers.groupby(\"dest_user\")[\"amount_idr\"].sum()\n",
    "\n",
    "transfer_dst_counts = transfer_dst_counts.reset_index().rename(\n",
    "    {\"amount_idr\": \"transfer_dst_sum\",\n",
    "     \"dest_user\": \"user\"\n",
    "    },\n",
    "    axis=\"columns\"\n",
    ")\n",
    "\n",
    "plot_frame = plot_frame.merge(transfer_dst_counts, how=\"outer\")\n",
    "plot_frame = plot_frame.melt(id_vars=[\"user\"],\n",
    "                             value_vars=[\"transfer_src_sum\", \"transfer_dst_sum\"],\n",
    "                             var_name=\"direction\",\n",
    "                             value_name=\"idr\")\n",
    "\n",
    "# Convert to USD\n",
    "plot_frame[\"usd\"] = plot_frame[\"idr\"] * IDR_TO_USD_RATE\n",
    "\n",
    "alt.Chart(plot_frame).mark_bar(opacity=0.7).encode(\n",
    "    x=alt.X('user',\n",
    "            sort=alt.SortField(field=\"usd\",\n",
    "                               order=\"descending\"\n",
    "                               ),\n",
    "            ),\n",
    "    y=alt.Y('usd',\n",
    "            scale=alt.Scale(type=\"log\"),\n",
    "            stack=False,\n",
    "            ),\n",
    "    color=\"direction\"\n",
    ").display()"
   ]
  },
  {
   "cell_type": "markdown",
   "metadata": {
    "pycharm": {
     "name": "#%% md\n"
    }
   },
   "source": [
    "## Graph network revenue and expenses vs time"
   ]
  },
  {
   "cell_type": "code",
   "execution_count": null,
   "metadata": {
    "pycharm": {
     "is_executing": false,
     "name": "#%%\n"
    }
   },
   "outputs": [],
   "source": [
    "topups = transactions.loc[transactions[\"kind\"] == \"admin_topup\"]\n",
    "topups = topups.set_index(\"timestamp\")[[\"dest_user\", \"amount_idr\"]]\n",
    "topups[\"idr_cumulative\"] = topups[\"amount_idr\"].cumsum()\n",
    "\n",
    "# Convert to USD\n",
    "topups[\"usd_cumulative\"] = topups[\"idr_cumulative\"] * IDR_TO_USD_RATE\n",
    "\n",
    "topups = topups.reset_index()\n",
    "\n",
    "alt.Chart(topups).mark_line().encode(\n",
    "    x=alt.X('timestamp',\n",
    "            type=\"temporal\"\n",
    "            ),\n",
    "    y=alt.Y(\"usd_cumulative\",\n",
    "            ),\n",
    ").display()"
   ]
  },
  {
   "cell_type": "markdown",
   "metadata": {},
   "source": [
    "## Relatively constant data purchases across days of the week?\n",
    "\n",
    "Market day is Saturday... it is the highest mean"
   ]
  },
  {
   "cell_type": "code",
   "execution_count": null,
   "metadata": {
    "pycharm": {
     "name": "#%%\n"
    }
   },
   "outputs": [],
   "source": [
    "days = ['Monday','Tuesday','Wednesday','Thursday','Friday','Saturday', 'Sunday']\n",
    "purchases = transactions.loc[transactions[\"kind\"] == \"purchase\"]\n",
    "purchases = purchases.groupby(transactions[\"timestamp\"].dt.floor(\"d\"))[\"amount_bytes\"].sum()\n",
    "\n",
    "purchases = pd.DataFrame(purchases)\n",
    "\n",
    "purchases[\"GiB\"] = purchases[\"amount_bytes\"] / 1024**2\n",
    "purchases = purchases.reset_index()\n",
    "purchases[\"day\"] = purchases[\"timestamp\"].dt.day_name()\n",
    "\n",
    "bars = alt.Chart(purchases).mark_boxplot().encode(\n",
    "    x=alt.X('day:N',\n",
    "            sort = days,\n",
    "            title=\"Day of Week\"\n",
    "            ),\n",
    "    y=alt.Y('GiB:Q',\n",
    "            title=\"GiB Per Day Purchased\"\n",
    "            ),\n",
    ").display()\n"
   ]
  },
  {
   "cell_type": "markdown",
   "source": [
    "## Conclusion Needed, User Spend Variance vs. Mean"
   ],
   "metadata": {
    "collapsed": false
   }
  },
  {
   "cell_type": "code",
   "execution_count": null,
   "outputs": [],
   "source": [],
   "metadata": {
    "collapsed": false,
    "pycharm": {
     "name": "#%%\n"
    }
   }
  },
  {
   "cell_type": "markdown",
   "metadata": {},
   "source": [
    "## From the transactions data, a graph of the number of transactions of different costs."
   ]
  },
  {
   "cell_type": "code",
   "execution_count": null,
   "metadata": {},
   "outputs": [],
   "source": []
  },
  {
   "cell_type": "markdown",
   "metadata": {},
   "source": [
    "## From the transactions data, a graph of the number of transactions of different costs."
   ]
  },
  {
   "cell_type": "code",
   "execution_count": null,
   "metadata": {
    "pycharm": {
     "is_executing": false
    }
   },
   "outputs": [],
   "source": [
    "purchases = transactions.loc[transactions[\"kind\"] == \"purchase\"]\n",
    "purchases = purchases.groupby(\"amount_bytes\")[\"timestamp\"].count()\n",
    "purchases = purchases.reset_index().rename({\"timestamp\": \"count\"}, axis=\"columns\")\n",
    "purchases[\"amount_MB\"] = purchases[\"amount_bytes\"] * 1.0/1000**2\n",
    "purchases[\"total_GB\"] = purchases[\"amount_MB\"] * purchases[\"count\"] * 1.0/1000\n",
    "\n",
    "print(purchases)\n",
    "bars = alt.Chart(purchases).mark_bar().encode(\n",
    "    x=alt.X('amount_MB',\n",
    "            type=\"ordinal\",\n",
    "            ),\n",
    "    y='count',\n",
    ")\n",
    "\n",
    "text = bars.mark_text(\n",
    "    align=\"left\",\n",
    "    baseline=\"bottom\",\n",
    ").encode(\n",
    "    text=\"count:Q\"\n",
    ")\n",
    "\n",
    "bars = text + bars\n",
    "\n",
    "bars.display()\n",
    "\n",
    "alt.Chart(purchases).mark_bar().encode(\n",
    "    x=alt.X('amount_MB',\n",
    "            type=\"ordinal\",\n",
    "            ),\n",
    "    y='total_GB',\n",
    ").display()"
   ]
  },
  {
   "cell_type": "markdown",
   "metadata": {
    "pycharm": {
     "name": "#%% md\n"
    }
   },
   "source": [
    "## Explore which package most users select"
   ]
  },
  {
   "cell_type": "code",
   "execution_count": null,
   "metadata": {
    "pycharm": {
     "is_executing": false,
     "name": "#%%\n"
    }
   },
   "outputs": [],
   "source": [
    "user_packages = transactions.loc[transactions[\"kind\"] == \"purchase\"]\n",
    "user_packages = user_packages.groupby([\"user\", \"amount_bytes\"])[\"timestamp\"].count()\n",
    "user_packages = user_packages.reset_index().rename({\"timestamp\":\"count\"}, axis=\"columns\")\n",
    "user_packages[\"amount_MB\"] = user_packages[\"amount_bytes\"] * 1.0/1000**2\n",
    "\n",
    "alt.Chart(user_packages).mark_bar(opacity=0.7).encode(\n",
    "    x=alt.X('user',\n",
    "            sort=alt.SortField(field=\"count\",\n",
    "                               order=\"descending\"\n",
    "                               ),\n",
    "            ),\n",
    "    y=alt.Y('count',\n",
    "            scale=alt.Scale(type=\"linear\"),\n",
    "            stack=\"normalize\",\n",
    "            ),\n",
    "    color=\"amount_MB:N\"\n",
    ").display()\n",
    "\n",
    "alt.Chart(user_packages).mark_bar(opacity=0.7).encode(\n",
    "    x=alt.X('user',\n",
    "            sort=alt.SortField(field=\"count\",\n",
    "                               order=\"descending\"\n",
    "                               ),\n",
    "            ),\n",
    "    y=alt.Y('count',\n",
    "            scale=alt.Scale(type=\"linear\"),\n",
    "            stack=\"zero\",\n",
    "            ),\n",
    "    color=\"amount_MB:N\"\n",
    ").display()"
   ]
  },
  {
   "cell_type": "markdown",
   "metadata": {
    "pycharm": {
     "is_executing": false,
     "name": "#%% md\n"
    }
   },
   "source": [
    "## Explore the amount of bytes sold at each package level"
   ]
  },
  {
   "cell_type": "code",
   "execution_count": null,
   "metadata": {
    "pycharm": {
     "is_executing": false,
     "name": "#%%\n"
    }
   },
   "outputs": [],
   "source": [
    "bytes_per_package = user_packages\n",
    "bytes_per_package[\"bytes_per_package\"] = bytes_per_package[\"count\"] * bytes_per_package[\"amount_bytes\"]\n",
    "\n",
    "print(bytes_per_package)\n",
    "\n",
    "alt.Chart(bytes_per_package).mark_bar(opacity=0.7).encode(\n",
    "    x=alt.X('user',\n",
    "            sort=alt.SortField(field=\"bytes_per_package\",\n",
    "                               order=\"descending\"\n",
    "                               ),\n",
    "            ),\n",
    "    y=alt.Y('bytes_per_package',\n",
    "            scale=alt.Scale(type=\"linear\"),\n",
    "            stack=\"normalize\",\n",
    "            ),\n",
    "    color=\"amount_MB:N\"\n",
    ").display()\n",
    "\n",
    "alt.Chart(bytes_per_package).mark_bar(opacity=0.7).encode(\n",
    "    x=alt.X('user',\n",
    "            sort=alt.SortField(field=\"bytes_per_package\",\n",
    "                               order=\"descending\"\n",
    "                               ),\n",
    "            ),\n",
    "    y=alt.Y('bytes_per_package',\n",
    "            scale=alt.Scale(type=\"linear\"),\n",
    "            stack=\"zero\",\n",
    "            ),\n",
    "    color=\"amount_MB:N\"\n",
    ").display()\n"
   ]
  },
  {
   "cell_type": "markdown",
   "metadata": {
    "pycharm": {
     "name": "#%% md\n"
    }
   },
   "source": [
    "## inter-topup time per user\n",
    "\n"
   ]
  }
 ],
 "metadata": {
  "kernelspec": {
   "display_name": "Python 3",
   "language": "python",
   "name": "python3"
  },
  "language_info": {
   "codemirror_mode": {
    "name": "ipython",
    "version": 3
   },
   "file_extension": ".py",
   "mimetype": "text/x-python",
   "name": "python",
   "nbconvert_exporter": "python",
   "pygments_lexer": "ipython3",
   "version": "3.8.2"
  }
 },
 "nbformat": 4,
 "nbformat_minor": 2
}