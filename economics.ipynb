{
 "cells": [
  {
   "cell_type": "code",
   "execution_count": null,
   "outputs": [],
   "source": [
    "import pandas as pd\n",
    "import altair as alt\n",
    "\n",
    "import bok.parsers\n",
    "\n",
    "# Define a conversion rate based on the current global market exchange rate.\n",
    "IDR_TO_USD_RATE = 1.0/14150\n",
    "\n",
    "## Extract data from the transactions file\n",
    "transactions = bok.parsers.parse_transactions_log(\"data/clean/transactions.log\")"
   ],
   "metadata": {
    "collapsed": false,
    "pycharm": {
     "name": "#%% Setup\n",
     "is_executing": false
    }
   }
  },
  {
   "cell_type": "markdown",
   "source": [
    "## Distribution of transfer sizes"
   ],
   "metadata": {
    "collapsed": false,
    "pycharm": {
     "name": "#%% md\n"
    }
   }
  },
  {
   "cell_type": "code",
   "execution_count": null,
   "outputs": [],
   "source": [
    "# Remove outliers from the data with the reseller transferring to their partner.\n",
    "transfers = transactions.loc[\n",
    "    (transactions[\"kind\"] == \"user_transfer\") &\n",
    "    (transactions[\"dest_user\"] !=\n",
    "     \"ff26563a118d01972ef7ac443b65a562d7f19cab327a0115f5c42660c58ce2b8\")]\n",
    "\n",
    "transfers = transfers.reset_index()\n",
    "\n",
    "alt.data_transformers.disable_max_rows()\n",
    "alt.Chart(transfers).mark_point(opacity=0.2).encode(\n",
    "    x=alt.X('dest_user',\n",
    "            type=\"nominal\",\n",
    "            ),\n",
    "    y=alt.Y('amount_idr',\n",
    "            type=\"quantitative\",\n",
    "            scale=alt.Scale(type=\"linear\"),\n",
    "            ),\n",
    ").display()\n"
   ],
   "metadata": {
    "collapsed": false,
    "pycharm": {
     "name": "#%%\n",
     "is_executing": false
    }
   }
  },
  {
   "cell_type": "code",
   "execution_count": null,
   "outputs": [],
   "source": [
    "binned_transfers = transfers.groupby(\"amount_idr\")[\"timestamp\"].count()\n",
    "\n",
    "binned_transfers = binned_transfers.reset_index().rename(\n",
    "    {\"timestamp\": \"count\"}, axis=\"columns\"\n",
    ")\n",
    "\n",
    "alt.Chart(binned_transfers).mark_bar().encode(\n",
    "    x=alt.X(\"amount_idr\",\n",
    "            type=\"nominal\",\n",
    "            ),\n",
    "    y=alt.Y(\"count\",\n",
    "            type=\"quantitative\",\n",
    "            ),\n",
    ").display()\n"
   ],
   "metadata": {
    "collapsed": false,
    "pycharm": {
     "name": "#%%\n",
     "is_executing": false
    }
   }
  },
  {
   "cell_type": "markdown",
   "source": [
    "## Track each user's IDR balance vs. time"
   ],
   "metadata": {
    "collapsed": false,
    "pycharm": {
     "name": "#%% md\n"
    }
   }
  },
  {
   "cell_type": "code",
   "execution_count": null,
   "outputs": [],
   "source": [
    "# Split transfers into positive components for the dest and negative for the source\n",
    "transfers = transactions.loc[\n",
    "    (transactions[\"kind\"] == \"user_transfer\") |\n",
    "    (transactions[\"kind\"] == \"admin_transfer\")\n",
    "].reset_index().drop([\"index\", \"amount_bytes\", \"kind\"], axis=\"columns\")\n",
    "\n",
    "user_ledger = transfers[[\"timestamp\", \"dest_user\", \"amount_idr\"]]\n",
    "user_ledger = user_ledger.rename({\"dest_user\": \"user\"}, axis=\"columns\")\n",
    "\n",
    "temp_ledger = transfers[[\"timestamp\", \"user\", \"amount_idr\"]]\n",
    "temp_ledger[\"amount_idr\"] = -temp_ledger[\"amount_idr\"]\n",
    "\n",
    "user_ledger = user_ledger.append(temp_ledger).reset_index().drop(\"index\", axis=\"columns\")\n",
    "\n",
    "# Add topups from the admin as positive user balance\n",
    "topups = transactions.loc[\n",
    "    (transactions[\"kind\"] == \"admin_topup\")\n",
    "    ].reset_index().drop([\"index\", \"amount_bytes\", \"user\", \"kind\"], axis=\"columns\")\n",
    "topups = topups.rename({\"dest_user\": \"user\"}, axis=\"columns\")\n",
    "\n",
    "user_ledger = user_ledger.append(topups).reset_index().drop(\"index\", axis=\"columns\")\n",
    "\n",
    "# Add purchases as negative balance\n",
    "purchases = transactions.loc[\n",
    "    (transactions[\"kind\"] == \"purchase\")\n",
    "    ].reset_index().drop([\"index\", \"amount_bytes\", \"dest_user\", \"kind\"], axis=\"columns\")\n",
    "\n",
    "purchases[\"amount_idr\"] = -purchases[\"amount_idr\"]\n",
    "\n",
    "user_ledger = user_ledger.append(purchases).set_index(\"timestamp\")"
   ],
   "metadata": {
    "collapsed": false,
    "pycharm": {
     "name": "#%% User idr balance vs. time\n",
     "is_executing": false
    }
   }
  },
  {
   "cell_type": "code",
   "execution_count": null,
   "outputs": [],
   "source": [
    "running_user_balance = user_ledger\n",
    "running_user_balance = running_user_balance.sort_values(\"timestamp\")\n",
    "running_user_balance[\"balance\"] = running_user_balance.groupby(\"user\")[\"amount_idr\"].transform(pd.Series.cumsum)\n",
    "\n",
    "test = running_user_balance.loc[\n",
    "    running_user_balance[\"user\"] ==\n",
    "    \"5759d99492dc4aace702a0d340eef1d605ba0da32a526667149ba059305a4ccb\"]\n",
    "# aaa16576d20325cbb47b9fc03d431f0728e51265aa2369385ea060e1b5524988\n",
    "# ff26563a118d01972ef7ac443b65a562d7f19cab327a0115f5c42660c58ce2b8\n",
    "# 5759d99492dc4aace702a0d340eef1d605ba0da32a526667149ba059305a4ccb\n",
    "\n",
    "test = test.reset_index().sort_values(\"timestamp\")\n",
    "pd.set_option('display.max_rows', None)\n",
    "\n",
    "alt.Chart(test).mark_line(interpolate='step-after').encode(\n",
    "    x=\"timestamp\",\n",
    "    y=\"balance\",\n",
    "    tooltip=[\"balance\", \"amount_idr\"],\n",
    ").display()"
   ],
   "metadata": {
    "collapsed": false,
    "pycharm": {
     "name": "#%%\n",
     "is_executing": false
    }
   }
  },
  {
   "cell_type": "code",
   "execution_count": null,
   "outputs": [],
   "source": [
    "# Time from purchase to time to zero, compared to \n",
    "\n",
    "# How do we characterize the curve between different types of re-up.\n",
    "# Graph a linear fit versus a highe order polynomial"
   ],
   "metadata": {
    "collapsed": false,
    "pycharm": {
     "name": "#%%\n"
    }
   }
  }
 ],
 "metadata": {
  "kernelspec": {
   "display_name": "Python 3",
   "language": "python",
   "name": "python3"
  },
  "language_info": {
   "codemirror_mode": {
    "name": "ipython",
    "version": 2
   },
   "file_extension": ".py",
   "mimetype": "text/x-python",
   "name": "python",
   "nbconvert_exporter": "python",
   "pygments_lexer": "ipython2",
   "version": "2.7.6"
  },
  "pycharm": {
   "stem_cell": {
    "cell_type": "raw",
    "source": [],
    "metadata": {
     "collapsed": false
    }
   }
  }
 },
 "nbformat": 4,
 "nbformat_minor": 0
}