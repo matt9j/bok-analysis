{
 "cells": [
  {
   "cell_type": "code",
   "execution_count": null,
   "outputs": [],
   "source": [
    "import pandas as pd\n",
    "import altair as alt\n",
    "\n",
    "import bok.parsers\n",
    "\n",
    "# Define a conversion rate based on the current global market exchange rate.\n",
    "IDR_TO_USD_RATE = 1.0/14150\n",
    "\n",
    "## Extract data from the transactions file\n",
    "transactions = bok.parsers.parse_transactions_log(\"data/clean/transactions.log\")"
   ],
   "metadata": {
    "collapsed": false,
    "pycharm": {
     "name": "#%% Setup\n"
    }
   }
  },
  {
   "cell_type": "markdown",
   "source": [
    "## Distribution of transfer sizes"
   ],
   "metadata": {
    "collapsed": false,
    "pycharm": {
     "name": "#%% md\n"
    }
   }
  },
  {
   "cell_type": "code",
   "execution_count": null,
   "outputs": [],
   "source": [
    "# Remove outliers from the data with the reseller transferring to their partner.\n",
    "transfers = transactions.loc[\n",
    "    (transactions[\"kind\"] == \"user_transfer\") &\n",
    "    (transactions[\"dest_user\"] !=\n",
    "     \"ff26563a118d01972ef7ac443b65a562d7f19cab327a0115f5c42660c58ce2b8\")]\n",
    "\n",
    "transfers = transfers.reset_index()\n",
    "\n",
    "alt.data_transformers.disable_max_rows()\n",
    "alt.Chart(transfers).mark_point(opacity=0.2).encode(\n",
    "    x=alt.X('dest_user',\n",
    "            type=\"nominal\",\n",
    "            ),\n",
    "    y=alt.Y('amount_idr',\n",
    "            type=\"quantitative\",\n",
    "            scale=alt.Scale(type=\"linear\"),\n",
    "            ),\n",
    ").display()\n"
   ],
   "metadata": {
    "collapsed": false,
    "pycharm": {
     "name": "#%%\n"
    }
   }
  },
  {
   "cell_type": "code",
   "execution_count": null,
   "outputs": [],
   "source": [
    "binned_transfers = transfers.groupby(\"amount_idr\")[\"timestamp\"].count()\n",
    "\n",
    "print(binned_transfers)#%%\n"
   ],
   "metadata": {
    "collapsed": false,
    "pycharm": {
     "name": "#%%\n"
    }
   }
  }
 ],
 "metadata": {
  "kernelspec": {
   "display_name": "Python 3",
   "language": "python",
   "name": "python3"
  },
  "language_info": {
   "codemirror_mode": {
    "name": "ipython",
    "version": 2
   },
   "file_extension": ".py",
   "mimetype": "text/x-python",
   "name": "python",
   "nbconvert_exporter": "python",
   "pygments_lexer": "ipython2",
   "version": "2.7.6"
  },
  "pycharm": {
   "stem_cell": {
    "cell_type": "raw",
    "source": [],
    "metadata": {
     "collapsed": false
    }
   }
  }
 },
 "nbformat": 4,
 "nbformat_minor": 0
}
